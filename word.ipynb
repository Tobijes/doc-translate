{
 "cells": [
  {
   "cell_type": "code",
   "execution_count": 16,
   "metadata": {},
   "outputs": [],
   "source": [
    "from typing import Any\n",
    "import re\n",
    "from pathlib import Path\n",
    "\n",
    "from docx import Document\n",
    "from docx.text.paragraph import Paragraph\n",
    "\n",
    "from lib.translate import translate"
   ]
  },
  {
   "cell_type": "code",
   "execution_count": 17,
   "metadata": {},
   "outputs": [],
   "source": [
    "def log_reason(reason: str, obj: Any, verbose):\n",
    "    if verbose:\n",
    "        print(f\"Filtered ({reason})\", repr(obj), flush=True)\n",
    "\n",
    "pattern_is_number = re.compile(r\"^\\s*\\d+(?:[\\,\\.]\\d+)*\\s*$\")\n",
    "def paragraph_filter(paragraph: Paragraph, verbose=True) -> bool:\n",
    "    if len(paragraph.text) == 0: \n",
    "        log_reason(\"length\", paragraph.text, verbose)\n",
    "        return False\n",
    "    \n",
    "    if paragraph.text.isspace(): \n",
    "        log_reason(\"whitespace\", paragraph.text, verbose)\n",
    "        return False\n",
    "    \n",
    "    if re.match(pattern_is_number, paragraph.text):\n",
    "        log_reason(\"numeric\", paragraph.text, verbose)\n",
    "        return False\n",
    "    \n",
    "    return True"
   ]
  },
  {
   "cell_type": "code",
   "execution_count": 18,
   "metadata": {},
   "outputs": [
    {
     "name": "stdout",
     "output_type": "stream",
     "text": [
      "Filtered (length) ''\n",
      "Filtered (length) ''\n",
      "Filtered (length) ''\n",
      "Filtered (length) ''\n",
      "Text: KURSUSNAVN\n",
      "Text: RAPPORTTITEL\n",
      "Text: DETTE ER EN UNDERTITEL\n",
      "Text: Introduktion\n",
      "Text: US Open 2024 er en tennisturnering, der bliver spillet udendørs på hardcourt-baner i perioden 26. august - 8. september 2024 i USTA Billie Jean King National Tennis Center i New York City, USA. Det er den 144. udgave af mesterskabet og den fjerde og sidste grand slam-turnering i 2024. Kvalifikationen i singlerækkerne spilles samme sted den 19. - 22. august 2024.\n",
      "Text: Siden Ruslands invasion af Ukraine i begyndelsen af 2022 havde tennissportens styrende organer, WTA, ATP, ITF og de fire grand slam-turneringer, tilladt, at spillere fra Rusland og Hviderusland fortsat kunne deltage i grand slam-turneringer samt turneringer på ATP Tour og WTA Tour, men de kunne ikke stille op under landenes navne eller flag, og spillerne fra de to lande deltog derfor i turneringen under neutralt flag.[2]\n",
      "Text: Et maleri af verdensklasse \n",
      "Text: Industriens mænd er et gruppeportræt malet af P.S. Krøyer i 1903-1904. Maleriet blev udført på bestilling af ingeniøren og fabrikanten G.A. Hagemann[1] og viser 53 mænd, der var knyttet enten til Danmarks industrialisering eller til ingeniørtekniske fremskridt i Danmark i anden halvdel af 1800-tallet.\n",
      "Text: Udvalget af personer på billedet er dog ikke repræsentativt, men viser snarere industrimænd i Hagemanns netværk. Således er der flere af tidens store fabrikanter, der ikke har fået plads her. Maleriet rummer også en overvægt af ingeniører, men er på den anden side heller ikke en gengivelse af en faglig sammenkomst. De afbildede personer er en gruppe ledende teknikere fra jern- og metalindustrien og den kemisk-tekniske industri samt mænd fra den offentlige forsynings domæne.\n",
      "Text: Danmarks Statsminister \n",
      "Text: Mette Frederiksen blev født i Aalborg den 19. november 1977 som datter af typograf og tillidsmand på Aalborg Stiftstidende Flemming Frederiksen[6] og pædagog Anette Frederiksen. Familien bestod udover Flemming, Anette og Mette af storebroren Per.[6] Det var en familie med lange socialdemokratiske traditioner,[6] idet oldefaderen havde været i fængsel for fagforeningsarbejde, og både Mettes farfar og far havde haft tillidsposter i partiet.[7][8]\n"
     ]
    }
   ],
   "source": [
    "# Load Document\n",
    "document_path = \"./docs/Rapport.docx\"\n",
    "doc = Document(document_path)\n",
    "\n",
    "# Handle pages\n",
    "paragraphs = doc.paragraphs\n",
    "paragraphs = list(filter(paragraph_filter, paragraphs))\n",
    "\n",
    "for paragraph in paragraphs:\n",
    "    text = paragraph.text\n",
    "    print(\"Text:\", text, flush=True)\n",
    "    result = translate(text)\n",
    "    paragraph.text = result\n",
    "\n",
    "# Save modified document\n",
    "doc_path = Path(document_path)\n",
    "annotated_path =str(doc_path.parent / \"translated\" / doc_path.name)\n",
    "doc.save(annotated_path)\n"
   ]
  }
 ],
 "metadata": {
  "kernelspec": {
   "display_name": ".venv",
   "language": "python",
   "name": "python3"
  },
  "language_info": {
   "codemirror_mode": {
    "name": "ipython",
    "version": 3
   },
   "file_extension": ".py",
   "mimetype": "text/x-python",
   "name": "python",
   "nbconvert_exporter": "python",
   "pygments_lexer": "ipython3",
   "version": "3.11.10"
  }
 },
 "nbformat": 4,
 "nbformat_minor": 2
}
